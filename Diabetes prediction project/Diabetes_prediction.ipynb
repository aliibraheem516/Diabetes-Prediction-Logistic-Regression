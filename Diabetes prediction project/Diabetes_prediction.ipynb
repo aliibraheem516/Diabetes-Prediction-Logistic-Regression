{
 "cells": [
  {
   "cell_type": "markdown",
   "metadata": {},
   "source": [
    "Project Overview:\n",
    "\n",
    "The aim of this project is to develop a predictive model for diabetes diagnosis using logistic regression.\n",
    "The dataset used for this project contains various health metrics and personal information of patients,\n",
    "which will be utilized to predict whether an individual has diabetes"
   ]
  },
  {
   "cell_type": "code",
   "execution_count": 12,
   "metadata": {},
   "outputs": [],
   "source": [
    "import pandas as pd\n",
    "from sklearn.model_selection import train_test_split\n",
    "from sklearn.linear_model import LogisticRegression\n",
    "from sklearn.metrics import accuracy_score"
   ]
  },
  {
   "cell_type": "code",
   "execution_count": null,
   "metadata": {},
   "outputs": [],
   "source": [
    "#load the dataset:\n",
    "df=pd.read_csv('diabetes2.csv')\n",
    "#show the first 4 elements in the file :\n",
    "print(df.head())\n",
    "#to encrypt the non nuerical values to numerical or boolean value :\n",
    "df_enc=pd.get_dummies(df,drop_first=True)"
   ]
  },
  {
   "cell_type": "code",
   "execution_count": null,
   "metadata": {},
   "outputs": [],
   "source": [
    "#load the model \n",
    "model=LogisticRegression(max_iter=5000)\n",
    "#prepare and split the data to train and test the model \n",
    "X_train,X_test,y_train,y_test=train_test_split(df_enc.drop(columns='Outcome'),df_enc['Outcome'],test_size=0.3,random_state=0)\n",
    "#fit the model with the test data:\n",
    "model.fit(X_train, y_train)\n",
    "# Make predictions\n",
    "y_pred = model.predict(X_test)\n",
    "# Evaluate the model\n",
    "accuracy = accuracy_score(y_pred,y_test)\n",
    "print(accuracy)\n",
    "print(f'Model Accuracy: {accuracy:.2f}')"
   ]
  },
  {
   "cell_type": "code",
   "execution_count": null,
   "metadata": {},
   "outputs": [],
   "source": [
    "# Example input to test the model\n",
    "example_input = pd.DataFrame({\n",
    "    'Pregnancies': [6],\n",
    "    'Glucose': [148],\n",
    "    'BloodPressure': [72],\n",
    "    'SkinThickness': [35],\n",
    "    'Insulin': [0],\n",
    "    'BMI': [33.6],\n",
    "    'DiabetesPedigreeFunction': [0.627],\n",
    "    'Age': [50]\n",
    "})\n",
    "\n",
    "# Make a prediction for the example input\n",
    "example_prediction = model.predict(example_input)\n",
    "example_prediction_prob = model.predict_proba(example_input)[:, 1]\n",
    "print(example_prediction)\n",
    "print(example_prediction_prob)\n"
   ]
  }
 ],
 "metadata": {
  "kernelspec": {
   "display_name": "testenv",
   "language": "python",
   "name": "python3"
  },
  "language_info": {
   "codemirror_mode": {
    "name": "ipython",
    "version": 3
   },
   "file_extension": ".py",
   "mimetype": "text/x-python",
   "name": "python",
   "nbconvert_exporter": "python",
   "pygments_lexer": "ipython3",
   "version": "3.7.12"
  }
 },
 "nbformat": 4,
 "nbformat_minor": 2
}
